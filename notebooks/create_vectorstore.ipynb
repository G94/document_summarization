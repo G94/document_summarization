{
 "cells": [
  {
   "cell_type": "code",
   "execution_count": 37,
   "id": "7fee2893",
   "metadata": {},
   "outputs": [],
   "source": [
    "import pandas as pd\n",
    "\n",
    "from langchain_chroma  import Chroma\n",
    "from langchain_text_splitters  import RecursiveCharacterTextSplitter\n",
    "from langchain_openai import OpenAIEmbeddings\n"
   ]
  },
  {
   "cell_type": "code",
   "execution_count": 55,
   "id": "9dc410d3",
   "metadata": {},
   "outputs": [],
   "source": [
    "# %pip install langchain_chroma\n",
    "# %pip install langchain_text_splitters\n",
    "# %pip install langchain_openai"
   ]
  },
  {
   "cell_type": "code",
   "execution_count": 42,
   "id": "8ec9347a",
   "metadata": {},
   "outputs": [
    {
     "data": {
      "text/html": [
       "<div>\n",
       "<style scoped>\n",
       "    .dataframe tbody tr th:only-of-type {\n",
       "        vertical-align: middle;\n",
       "    }\n",
       "\n",
       "    .dataframe tbody tr th {\n",
       "        vertical-align: top;\n",
       "    }\n",
       "\n",
       "    .dataframe thead th {\n",
       "        text-align: right;\n",
       "    }\n",
       "</style>\n",
       "<table border=\"1\" class=\"dataframe\">\n",
       "  <thead>\n",
       "    <tr style=\"text-align: right;\">\n",
       "      <th></th>\n",
       "      <th>paper_id</th>\n",
       "      <th>text</th>\n",
       "      <th>summary</th>\n",
       "    </tr>\n",
       "  </thead>\n",
       "  <tbody>\n",
       "    <tr>\n",
       "      <th>0</th>\n",
       "      <td>0</td>\n",
       "      <td>## FROM SOVEREIGNTY TO EXTRATERRITORIAL CONSCI...</td>\n",
       "      <td>In this article, Victor Fan argues that analys...</td>\n",
       "    </tr>\n",
       "    <tr>\n",
       "      <th>1</th>\n",
       "      <td>1</td>\n",
       "      <td>## 1. Introduction\\n\\n\\nAn Electronic Health R...</td>\n",
       "      <td>Problem definition: Physicians spend more than...</td>\n",
       "    </tr>\n",
       "    <tr>\n",
       "      <th>2</th>\n",
       "      <td>2</td>\n",
       "      <td>## Introduction\\n\\n\\nTranslation  plays  an  i...</td>\n",
       "      <td>Literary translation is one of the most challe...</td>\n",
       "    </tr>\n",
       "    <tr>\n",
       "      <th>3</th>\n",
       "      <td>3</td>\n",
       "      <td>## 1 Problem Setup\\n\\n\\nRecent political scien...</td>\n",
       "      <td>There is a long-running debate on evaluating f...</td>\n",
       "    </tr>\n",
       "    <tr>\n",
       "      <th>4</th>\n",
       "      <td>4</td>\n",
       "      <td>## INTRODUCTION\\n\\n\\nThis  article  investigat...</td>\n",
       "      <td>Recently, ‘bimajyo’ (美魔女) came into focus in J...</td>\n",
       "    </tr>\n",
       "  </tbody>\n",
       "</table>\n",
       "</div>"
      ],
      "text/plain": [
       "   paper_id                                               text  \\\n",
       "0         0  ## FROM SOVEREIGNTY TO EXTRATERRITORIAL CONSCI...   \n",
       "1         1  ## 1. Introduction\\n\\n\\nAn Electronic Health R...   \n",
       "2         2  ## Introduction\\n\\n\\nTranslation  plays  an  i...   \n",
       "3         3  ## 1 Problem Setup\\n\\n\\nRecent political scien...   \n",
       "4         4  ## INTRODUCTION\\n\\n\\nThis  article  investigat...   \n",
       "\n",
       "                                             summary  \n",
       "0  In this article, Victor Fan argues that analys...  \n",
       "1  Problem definition: Physicians spend more than...  \n",
       "2  Literary translation is one of the most challe...  \n",
       "3  There is a long-running debate on evaluating f...  \n",
       "4  Recently, ‘bimajyo’ (美魔女) came into focus in J...  "
      ]
     },
     "execution_count": 42,
     "metadata": {},
     "output_type": "execute_result"
    }
   ],
   "source": [
    "train_data = pd.read_csv(\"../data/train.csv\")\n",
    "train_data.head()"
   ]
  },
  {
   "cell_type": "code",
   "execution_count": 16,
   "id": "acdc1788",
   "metadata": {},
   "outputs": [
    {
     "name": "stdout",
     "output_type": "stream",
     "text": [
      "Example Text length : 33416 , Summary length 1302\n"
     ]
    }
   ],
   "source": [
    "print(\"Example Text length : {} , Summary length {}\".format(len(train_data.text.values[0]), len(train_data.summary.values[0])))"
   ]
  },
  {
   "cell_type": "code",
   "execution_count": 34,
   "id": "4d8c04df",
   "metadata": {},
   "outputs": [],
   "source": [
    "splitter =  RecursiveCharacterTextSplitter(\n",
    "    separators=['\\n', '\\n\\n'],\n",
    "    chunk_overlap=20,\n",
    "    chunk_size=150\n",
    ")\n",
    "\n",
    "\n",
    "docs = splitter.split_text(train_data.text.values[0])"
   ]
  },
  {
   "cell_type": "code",
   "execution_count": null,
   "id": "ace44c3b",
   "metadata": {},
   "outputs": [
    {
     "data": {
      "text/plain": [
       "38"
      ]
     },
     "execution_count": 35,
     "metadata": {},
     "output_type": "execute_result"
    }
   ],
   "source": [
    "len(docs)"
   ]
  },
  {
   "cell_type": "code",
   "execution_count": 39,
   "id": "72922a47",
   "metadata": {},
   "outputs": [],
   "source": [
    "embedding_function = OpenAIEmbeddings(model=\"text-embedding-3-small\")"
   ]
  },
  {
   "cell_type": "code",
   "execution_count": 48,
   "id": "d4aea552",
   "metadata": {},
   "outputs": [],
   "source": [
    "from langchain_core.documents import Document\n",
    "\n",
    "\n",
    "documents = [Document(\n",
    "    page_content=doc\n",
    "    # metadata={\"paper_id\": train_data.paper_id.values[0]}\n",
    ") for doc in docs]"
   ]
  },
  {
   "cell_type": "code",
   "execution_count": 52,
   "id": "021ee4ac",
   "metadata": {},
   "outputs": [],
   "source": [
    "index = Chroma.from_documents(\n",
    "    documents=documents,\n",
    "    collection_name=\"socialdocuments\",\n",
    "    persist_directory=\"socialdocuments\",\n",
    "    embedding=embedding_function\n",
    ")"
   ]
  },
  {
   "cell_type": "code",
   "execution_count": 53,
   "id": "55bfdd55",
   "metadata": {},
   "outputs": [],
   "source": [
    "retriever = index.as_retriever()"
   ]
  },
  {
   "cell_type": "code",
   "execution_count": null,
   "id": "861b39aa",
   "metadata": {},
   "outputs": [],
   "source": []
  },
  {
   "cell_type": "code",
   "execution_count": null,
   "id": "419834b5",
   "metadata": {},
   "outputs": [],
   "source": []
  },
  {
   "cell_type": "code",
   "execution_count": null,
   "id": "6497eeb6",
   "metadata": {},
   "outputs": [],
   "source": []
  },
  {
   "cell_type": "code",
   "execution_count": null,
   "id": "b5a65302",
   "metadata": {},
   "outputs": [],
   "source": []
  },
  {
   "cell_type": "code",
   "execution_count": null,
   "id": "18b662bd",
   "metadata": {},
   "outputs": [],
   "source": []
  },
  {
   "cell_type": "code",
   "execution_count": null,
   "id": "8250a545",
   "metadata": {},
   "outputs": [],
   "source": []
  },
  {
   "cell_type": "code",
   "execution_count": null,
   "id": "0d79f094",
   "metadata": {},
   "outputs": [],
   "source": []
  }
 ],
 "metadata": {
  "kernelspec": {
   "display_name": ".venv",
   "language": "python",
   "name": "python3"
  },
  "language_info": {
   "codemirror_mode": {
    "name": "ipython",
    "version": 3
   },
   "file_extension": ".py",
   "mimetype": "text/x-python",
   "name": "python",
   "nbconvert_exporter": "python",
   "pygments_lexer": "ipython3",
   "version": "3.12.3"
  }
 },
 "nbformat": 4,
 "nbformat_minor": 5
}
